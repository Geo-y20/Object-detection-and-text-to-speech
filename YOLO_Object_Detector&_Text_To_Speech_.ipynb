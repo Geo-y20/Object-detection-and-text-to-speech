{
  "nbformat": 4,
  "nbformat_minor": 0,
  "metadata": {
    "colab": {
      "provenance": [],
      "gpuType": "T4"
    },
    "kernelspec": {
      "name": "python3",
      "display_name": "Python 3"
    },
    "language_info": {
      "name": "python"
    },
    "accelerator": "GPU"
  },
  "cells": [
    {
      "cell_type": "markdown",
      "source": [
        "Resources Used :\n",
        "- https://huggingface.co/microsoft/speecht5_tts?text=hello\n",
        "- https://drlee.io/a-step-by-step-guide-to-train-a-yolo-object-detector-using-google-colab-and-your-laptop-camera-in-ca935a506927"
      ],
      "metadata": {
        "id": "2F0JN7E84g_2"
      }
    },
    {
      "cell_type": "code",
      "execution_count": null,
      "metadata": {
        "colab": {
          "base_uri": "https://localhost:8080/"
        },
        "id": "lVVolQuyCUVd",
        "outputId": "a8cec243-2276-4722-83b1-0076aac26443"
      },
      "outputs": [
        {
          "output_type": "stream",
          "name": "stdout",
          "text": [
            "Requirement already satisfied: torch in /usr/local/lib/python3.10/dist-packages (2.2.1+cu121)\n",
            "Collecting torch\n",
            "  Downloading torch-2.3.0-cp310-cp310-manylinux1_x86_64.whl (779.1 MB)\n",
            "\u001b[2K     \u001b[90m━━━━━━━━━━━━━━━━━━━━━━━━━━━━━━━━━━━━━━━━\u001b[0m \u001b[32m779.1/779.1 MB\u001b[0m \u001b[31m1.3 MB/s\u001b[0m eta \u001b[36m0:00:00\u001b[0m\n",
            "\u001b[?25h"
          ]
        }
      ],
      "source": [
        "!pip install -U torch torchvision cython\n",
        "!pip install -U 'git+https://github.com/cocodataset/cocoapi.git#subdirectory=PythonAPI'"
      ]
    },
    {
      "cell_type": "code",
      "source": [
        "import torch\n",
        "import torchvision\n",
        "from torchvision.models.detection import fasterrcnn_resnet50_fpn\n",
        "from torchvision.transforms import functional as F\n",
        "from PIL import Image\n",
        "import cv2\n",
        "from google.colab.patches import cv2_imshow"
      ],
      "metadata": {
        "id": "4akzTg2NCz7j"
      },
      "execution_count": null,
      "outputs": []
    },
    {
      "cell_type": "code",
      "source": [
        "!git clone https://github.com/ultralytics/yolov5\n",
        "%cd yolov5\n",
        "!pip install -r requirements.txt"
      ],
      "metadata": {
        "id": "xSrr4BNOC1P5"
      },
      "execution_count": null,
      "outputs": []
    },
    {
      "cell_type": "code",
      "source": [
        "import torch\n",
        "from yolov5.models.yolo import Model\n",
        "device = torch.device('cuda' if torch.cuda.is_available() else 'cpu')\n",
        "model = torch.hub.load('ultralytics/yolov5', 'yolov5s', pretrained=True).to(device)\n",
        "model.eval()"
      ],
      "metadata": {
        "id": "Gj5pEDvsC2qh"
      },
      "execution_count": null,
      "outputs": []
    },
    {
      "cell_type": "code",
      "source": [
        "from IPython.display import display, Javascript\n",
        "from google.colab.output import eval_js\n",
        "from base64 import b64decode\n",
        "\n",
        "def take_photo(filename='photo.jpg', quality=0.8):\n",
        "  js = Javascript('''\n",
        "    async function takePhoto(quality) {\n",
        "      const div = document.createElement('div');\n",
        "      const capture = document.createElement('button');\n",
        "      capture.textContent = 'Capture';\n",
        "      div.appendChild(capture);\n",
        "\n",
        "      const video = document.createElement('video');\n",
        "      video.style.display = 'block';\n",
        "      const stream = await navigator.mediaDevices.getUserMedia({video: true});\n",
        "\n",
        "      document.body.appendChild(div);\n",
        "      div.appendChild(video);\n",
        "      video.srcObject = stream;\n",
        "      await video.play();\n",
        "\n",
        "      // Resize the output to fit the video element.\n",
        "      google.colab.output.setIframeHeight(document.documentElement.scrollHeight, true);\n",
        "\n",
        "      // Wait for Capture to be clicked.\n",
        "      await new Promise((resolve) => capture.onclick = resolve);\n",
        "\n",
        "      const canvas = document.createElement('canvas');\n",
        "      canvas.width = video.videoWidth;\n",
        "      canvas.height = video.videoHeight;\n",
        "      canvas.getContext('2d').drawImage(video, 0, 0);\n",
        "      stream.getVideoTracks()[0].stop();\n",
        "      div.remove();\n",
        "      return canvas.toDataURL('image/jpeg', quality);\n",
        "    }\n",
        "  ''')\n",
        "  display(js)\n",
        "  data = eval_js('takePhoto({})'.format(quality))\n",
        "  binary = b64decode(data.split(',')[1])\n",
        "  with open(filename, 'wb') as f:\n",
        "    f.write(binary)\n",
        "  return filename"
      ],
      "metadata": {
        "id": "xFfK4sqmC48Y"
      },
      "execution_count": null,
      "outputs": []
    },
    {
      "cell_type": "code",
      "source": [
        "# !pip install --upgrade pip\n",
        "!pip install --upgrade transformers sentencepiece datasets[audio]\n",
        "!pip install tensorflow-probability\n",
        "# !pip install tensorflow==2.14"
      ],
      "metadata": {
        "id": "YfYjI1-uveit"
      },
      "execution_count": null,
      "outputs": []
    },
    {
      "cell_type": "code",
      "source": [
        "from transformers import pipeline\n",
        "from transformers import SpeechT5Processor, SpeechT5ForTextToSpeech, SpeechT5HifiGan\n",
        "from datasets import load_dataset\n",
        "import soundfile as sf\n",
        "import torch\n",
        "from PIL import Image\n",
        "import torchvision.transforms as transforms\n",
        "from yolov5.utils.general import non_max_suppression\n",
        "import matplotlib.pyplot as plt\n",
        "import cv2\n",
        "\n",
        "# Function for text-to-speech synthesis\n",
        "def text_to_speech(text):\n",
        "    processor = SpeechT5Processor.from_pretrained(\"microsoft/speecht5_tts\")\n",
        "    model = SpeechT5ForTextToSpeech.from_pretrained(\"microsoft/speecht5_tts\")\n",
        "    vocoder = SpeechT5HifiGan.from_pretrained(\"microsoft/speecht5_hifigan\")\n",
        "    synthesiser = pipeline(\"text-to-speech\", \"microsoft/speecht5_tts\")\n",
        "    embeddings_dataset = load_dataset(\"Matthijs/cmu-arctic-xvectors\", split=\"validation\")\n",
        "    speaker_embedding = torch.tensor(embeddings_dataset[7306][\"xvector\"]).unsqueeze(0)\n",
        "    speech = synthesiser(text, forward_params={\"speaker_embeddings\": speaker_embedding})\n",
        "    return speech\n",
        "\n",
        "# Function to preprocess an image\n",
        "def preprocess_image(image_path):\n",
        "    # Load the image and transform it into a tensor\n",
        "    image = Image.open(image_path)\n",
        "    transform = transforms.Compose([transforms.ToTensor()])\n",
        "    image_tensor = transform(image).unsqueeze(0).to(device)\n",
        "    return image_tensor\n",
        "\n",
        "# Capture image (this function is not provided, make sure it captures an image correctly)\n",
        "image_path = take_photo()  # Make sure this captures an image without errors\n",
        "device = torch.device(\"cuda:0\" if torch.cuda.is_available() else \"cpu\")\n",
        "\n",
        "# Perform object detection on the captured image\n",
        "image_tensor = preprocess_image(image_path)\n",
        "outputs = model(image_tensor)\n",
        "outputs = non_max_suppression(outputs)[0]\n",
        "\n",
        "# Check if a 'person' is detected\n",
        "# If the label is not a 'person', generate text-to-speech\n",
        "\n",
        "detected_objects = []\n",
        "for box in outputs:\n",
        "    label = int(box[5])\n",
        "    score = box[4]\n",
        "    if label != 0:  # Change '0' to the label ID of the desired object\n",
        "      detected_objects.append(f\"Detected {model.names[label]} with confidence {score:.2f}\")\n",
        "\n",
        "if detected_objects:\n",
        "    text = ', '.join(detected_objects)\n",
        "    print(\"Detected objects:\", text)\n",
        "    speech_output = text_to_speech(text)\n",
        "    print(\"Speech output:\", speech_output)\n",
        "    sf.write(\"speech.wav\", speech_output[\"audio\"], samplerate=speech_output[\"sampling_rate\"])\n",
        "\n",
        "\n",
        "# Visualize object detection results\n",
        "def draw_boxes(image_path, outputs, threshold=0.3):\n",
        "    image = cv2.imread(image_path)\n",
        "    image = cv2.cvtColor(image, cv2.COLOR_BGR2RGB)\n",
        "    h, w, _ = image.shape\n",
        "\n",
        "    for box in outputs:\n",
        "        score, label, x1, y1, x2, y2 = box[4].item(), int(box[5].item()), box[0].item(), box[1].item(), box[2].item(), box[3].item()\n",
        "        if score > threshold:\n",
        "            x1, y1, x2, y2 = int(x1), int(y1), int(x2), int(y2)\n",
        "            cv2.rectangle(image, (x1, y1), (x2, y2), (255, 0, 0), 2)\n",
        "            text = f\"{model.names[label]:s}: {score:.2f}\"\n",
        "            cv2.putText(image, text, (x1, y1 - 5), cv2.FONT_HERSHEY_SIMPLEX, 0.5, (255, 0, 0), 2)\n",
        "\n",
        "    plt.imshow(image)\n",
        "    plt.axis('off')  # Hide axes\n",
        "    plt.show()\n",
        "\n",
        "# Draw bounding boxes on the image\n",
        "draw_boxes(image_path, outputs)\n",
        "plt.show()  # Display the detected image\n",
        "plt.savefig(\"detected_image.jpg\")  # Save the detected image if needed"
      ],
      "metadata": {
        "id": "iIMWmuOA0g2b"
      },
      "execution_count": null,
      "outputs": []
    },
    {
      "cell_type": "code",
      "source": [
        "# Initialize speech_output\n",
        "speech_output = None\n",
        "\n",
        "if detected_objects:\n",
        "    text = ', '.join(detected_objects)\n",
        "    print(\"Detected objects:\", text)\n",
        "    # Generate text-to-speech output\n",
        "    speech_output = text_to_speech(text + \"at distance 10 cm\")\n",
        "    print(\"Speech output:\", speech_output)\n",
        "    sf.write(\"speech.wav\", speech_output[\"audio\"], samplerate=speech_output[\"sampling_rate\"])\n",
        "\n",
        "# Check if speech_output is not None before playing audio\n",
        "if speech_output is not None:\n",
        "    # Play audio if available\n",
        "    try:\n",
        "        from IPython.display import Audio\n",
        "        audio = Audio(data=speech_output[\"audio\"], rate=speech_output[\"sampling_rate\"])\n",
        "        display(audio)\n",
        "    except ImportError:\n",
        "        print(\"IPython.display.Audio is not available. Please make sure IPython is properly installed.\")\n",
        "\n",
        "    # Save the audio to a file\n",
        "    try:\n",
        "        with open(\"speech_output.wav\", \"wb\") as f:\n",
        "            f.write(speech_output[\"audio\"])\n",
        "        print(\"Audio file saved as 'speech_output.wav'.\")\n",
        "    except Exception as e:\n",
        "        print(f\"Error saving audio file: {e}\")\n"
      ],
      "metadata": {
        "id": "bndJWdvr18bZ"
      },
      "execution_count": null,
      "outputs": []
    },
    {
      "cell_type": "code",
      "source": [
        "!pip list > installed_packages.txt"
      ],
      "metadata": {
        "id": "3nOwJ7q331Se"
      },
      "execution_count": null,
      "outputs": []
    },
    {
      "cell_type": "code",
      "source": [
        "from google.colab import files\n",
        "files.download('installed_packages.txt')\n"
      ],
      "metadata": {
        "id": "m-90eD9m3h_F"
      },
      "execution_count": null,
      "outputs": []
    }
  ]
}